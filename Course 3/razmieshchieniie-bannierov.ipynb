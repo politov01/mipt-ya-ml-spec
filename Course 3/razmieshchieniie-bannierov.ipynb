{
 "cells": [
  {
   "cell_type": "code",
   "execution_count": 40,
   "metadata": {
    "collapsed": true
   },
   "outputs": [],
   "source": [
    "import numpy\n",
    "import pandas\n",
    "\n",
    "from sklearn import cluster, metrics"
   ]
  },
  {
   "cell_type": "code",
   "execution_count": 18,
   "metadata": {
    "collapsed": false
   },
   "outputs": [],
   "source": [
    "checkins = pandas.read_table(\n",
    "    \"checkins.dat\",\n",
    "    sep=r\"\\s*\\|\\s*\",\n",
    "    header=0,\n",
    "    skiprows=[1],\n",
    "    engine=\"python\",\n",
    ").dropna()"
   ]
  },
  {
   "cell_type": "code",
   "execution_count": 12,
   "metadata": {
    "collapsed": false
   },
   "outputs": [
    {
     "data": {
      "text/html": [
       "<div>\n",
       "<table border=\"1\" class=\"dataframe\">\n",
       "  <thead>\n",
       "    <tr style=\"text-align: right;\">\n",
       "      <th></th>\n",
       "      <th>user_id</th>\n",
       "      <th>venue_id</th>\n",
       "      <th>latitude</th>\n",
       "      <th>longitude</th>\n",
       "    </tr>\n",
       "  </thead>\n",
       "  <tbody>\n",
       "    <tr>\n",
       "      <th>count</th>\n",
       "      <td>3.966340e+05</td>\n",
       "      <td>3.966340e+05</td>\n",
       "      <td>396634.000000</td>\n",
       "      <td>396634.000000</td>\n",
       "    </tr>\n",
       "    <tr>\n",
       "      <th>mean</th>\n",
       "      <td>5.641349e+05</td>\n",
       "      <td>1.327559e+05</td>\n",
       "      <td>37.097070</td>\n",
       "      <td>-86.354065</td>\n",
       "    </tr>\n",
       "    <tr>\n",
       "      <th>std</th>\n",
       "      <td>4.865694e+05</td>\n",
       "      <td>2.287003e+05</td>\n",
       "      <td>8.778760</td>\n",
       "      <td>37.983677</td>\n",
       "    </tr>\n",
       "    <tr>\n",
       "      <th>min</th>\n",
       "      <td>1.000000e+00</td>\n",
       "      <td>1.000000e+00</td>\n",
       "      <td>-75.250973</td>\n",
       "      <td>-159.670833</td>\n",
       "    </tr>\n",
       "    <tr>\n",
       "      <th>25%</th>\n",
       "      <td>1.692900e+05</td>\n",
       "      <td>7.620000e+03</td>\n",
       "      <td>33.800745</td>\n",
       "      <td>-111.926052</td>\n",
       "    </tr>\n",
       "    <tr>\n",
       "      <th>50%</th>\n",
       "      <td>4.298200e+05</td>\n",
       "      <td>2.830400e+04</td>\n",
       "      <td>39.099275</td>\n",
       "      <td>-85.758456</td>\n",
       "    </tr>\n",
       "    <tr>\n",
       "      <th>75%</th>\n",
       "      <td>8.496470e+05</td>\n",
       "      <td>1.485520e+05</td>\n",
       "      <td>40.802071</td>\n",
       "      <td>-74.056530</td>\n",
       "    </tr>\n",
       "    <tr>\n",
       "      <th>max</th>\n",
       "      <td>2.153361e+06</td>\n",
       "      <td>1.143011e+06</td>\n",
       "      <td>78.218590</td>\n",
       "      <td>178.424240</td>\n",
       "    </tr>\n",
       "  </tbody>\n",
       "</table>\n",
       "</div>"
      ],
      "text/plain": [
       "            user_id      venue_id       latitude      longitude\n",
       "count  3.966340e+05  3.966340e+05  396634.000000  396634.000000\n",
       "mean   5.641349e+05  1.327559e+05      37.097070     -86.354065\n",
       "std    4.865694e+05  2.287003e+05       8.778760      37.983677\n",
       "min    1.000000e+00  1.000000e+00     -75.250973    -159.670833\n",
       "25%    1.692900e+05  7.620000e+03      33.800745    -111.926052\n",
       "50%    4.298200e+05  2.830400e+04      39.099275     -85.758456\n",
       "75%    8.496470e+05  1.485520e+05      40.802071     -74.056530\n",
       "max    2.153361e+06  1.143011e+06      78.218590     178.424240"
      ]
     },
     "execution_count": 12,
     "metadata": {},
     "output_type": "execute_result"
    }
   ],
   "source": [
    "checkins.describe()"
   ]
  },
  {
   "cell_type": "code",
   "execution_count": 15,
   "metadata": {
    "collapsed": false
   },
   "outputs": [
    {
     "data": {
      "text/plain": [
       "(100000, 2)"
      ]
     },
     "execution_count": 15,
     "metadata": {},
     "output_type": "execute_result"
    }
   ],
   "source": [
    "X = checkins[[\"latitude\", \"longitude\"]].values[:100000, :]\n",
    "X.shape"
   ]
  },
  {
   "cell_type": "code",
   "execution_count": 19,
   "metadata": {
    "collapsed": false
   },
   "outputs": [
    {
     "name": "stdout",
     "output_type": "stream",
     "text": [
      "CPU times: user 2min 37s, sys: 2.28 s, total: 2min 40s\n",
      "Wall time: 2min 41s\n"
     ]
    }
   ],
   "source": [
    "%%time\n",
    "y = cluster.MeanShift(bandwidth=0.1).fit_predict(X)"
   ]
  },
  {
   "cell_type": "code",
   "execution_count": 39,
   "metadata": {
    "collapsed": false
   },
   "outputs": [],
   "source": [
    "all_clusters, freqs = numpy.unique(y, return_counts=True)\n",
    "clusters = all_clusters[freqs > 15]"
   ]
  },
  {
   "cell_type": "code",
   "execution_count": 41,
   "metadata": {
    "collapsed": false
   },
   "outputs": [],
   "source": [
    "offices = numpy.array([\n",
    "    [33.751277, -118.188740],\n",
    "    [25.867736, -80.324116],\n",
    "    [51.503016, -0.075479],\n",
    "    [52.378894, 4.885084],\n",
    "    [39.366487, 117.036146],\n",
    "    [-33.868457, 151.205134],\n",
    "])"
   ]
  },
  {
   "cell_type": "code",
   "execution_count": 56,
   "metadata": {
    "collapsed": false
   },
   "outputs": [
    {
     "data": {
      "text/plain": [
       "21"
      ]
     },
     "execution_count": 56,
     "metadata": {},
     "output_type": "execute_result"
    }
   ],
   "source": [
    "centers = model.cluster_centers_[clusters, :]\n",
    "distances = metrics.pairwise.pairwise_distances(centers, offices)\n",
    "cluster, _ = numpy.unravel_index(numpy.argmin(distances), distances.shape)\n",
    "open(\"razmieshchieniie-bannierov.txt\", \"wt\").write(\"%f %f\" % tuple(centers[cluster]))"
   ]
  }
 ],
 "metadata": {
  "kernelspec": {
   "display_name": "Python 3",
   "language": "python",
   "name": "python3"
  },
  "language_info": {
   "codemirror_mode": {
    "name": "ipython",
    "version": 3
   },
   "file_extension": ".py",
   "mimetype": "text/x-python",
   "name": "python",
   "nbconvert_exporter": "python",
   "pygments_lexer": "ipython3",
   "version": "3.5.1"
  }
 },
 "nbformat": 4,
 "nbformat_minor": 0
}
