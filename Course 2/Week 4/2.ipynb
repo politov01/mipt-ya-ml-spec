{
 "cells": [
  {
   "cell_type": "code",
   "execution_count": 110,
   "metadata": {
    "collapsed": true
   },
   "outputs": [],
   "source": [
    "import numpy\n",
    "import sklearn.cross_validation\n",
    "import sklearn.datasets\n",
    "import sklearn.linear_model\n",
    "import sklearn.metrics\n",
    "import sklearn.tree\n",
    "\n",
    "from matplotlib import pyplot\n",
    "%matplotlib inline"
   ]
  },
  {
   "cell_type": "code",
   "execution_count": 85,
   "metadata": {
    "collapsed": false
   },
   "outputs": [
    {
     "data": {
      "text/plain": [
       "((379, 13), (127, 13), (379,), (127,))"
      ]
     },
     "execution_count": 85,
     "metadata": {},
     "output_type": "execute_result"
    }
   ],
   "source": [
    "boston = sklearn.datasets.load_boston()\n",
    "X, y = boston.data, boston.target\n",
    "X_len = X.shape[0]\n",
    "X_train, X_test = X[:-X_len // 4], X[-X_len // 4:]\n",
    "y_train, y_test = y[:-X_len // 4], y[-X_len // 4:]\n",
    "\n",
    "X_train.shape, X_test.shape, y_train.shape, y_test.shape"
   ]
  },
  {
   "cell_type": "code",
   "execution_count": 63,
   "metadata": {
    "collapsed": true
   },
   "outputs": [],
   "source": [
    "def gbm_predict(X, estimators, coefs):\n",
    "    return numpy.sum(coefs * numpy.array(list(estimator.predict(X) for estimator in estimators)).T, axis=1)"
   ]
  },
  {
   "cell_type": "code",
   "execution_count": 92,
   "metadata": {
    "collapsed": false
   },
   "outputs": [],
   "source": [
    "def gbm_train(X, y, coefs, max_depth=5):\n",
    "    estimators = []\n",
    "    for _ in coefs:\n",
    "        s = y - gbm_predict(X, estimators, coefs[:len(estimators)]) if estimators else y\n",
    "        estimators.append(sklearn.tree.DecisionTreeRegressor(max_depth=max_depth, random_state=42).fit(X, s))\n",
    "    return estimators"
   ]
  },
  {
   "cell_type": "code",
   "execution_count": 93,
   "metadata": {
    "collapsed": false
   },
   "outputs": [
    {
     "name": "stdout",
     "output_type": "stream",
     "text": [
      "5.47665097417\n"
     ]
    }
   ],
   "source": [
    "coefs = 0.9 * numpy.ones(50)\n",
    "estimators = gbm_train(X_train, y_train, coefs)\n",
    "rmse = numpy.sqrt(sklearn.metrics.mean_squared_error(y_test, gbm_predict(X_test, estimators, coefs)))\n",
    "open(\"2-1.txt\", \"wt\").write(str(rmse))\n",
    "print(rmse)"
   ]
  },
  {
   "cell_type": "code",
   "execution_count": 91,
   "metadata": {
    "collapsed": false
   },
   "outputs": [
    {
     "name": "stdout",
     "output_type": "stream",
     "text": [
      "4.81089328026\n"
     ]
    }
   ],
   "source": [
    "coefs = numpy.array([0.9 / (1 + i) for i in range(50)])\n",
    "estimators = gbm_train(X_train, y_train, coefs)\n",
    "rmse = numpy.sqrt(sklearn.metrics.mean_squared_error(y_test, gbm_predict(X_test, estimators, coefs)))\n",
    "open(\"2-2.txt\", \"wt\").write(str(rmse))\n",
    "print(rmse)"
   ]
  },
  {
   "cell_type": "code",
   "execution_count": 99,
   "metadata": {
    "collapsed": true
   },
   "outputs": [],
   "source": [
    "def estimate(n_iter, max_depth):\n",
    "    coefs = numpy.array([0.9 / (1 + i) for i in range(n_iter)])\n",
    "    estimators = gbm_train(X_train, y_train, coefs, max_depth=max_depth)\n",
    "    return numpy.sqrt(sklearn.metrics.mean_squared_error(y_test, gbm_predict(X_test, estimators, coefs)))"
   ]
  },
  {
   "cell_type": "code",
   "execution_count": 103,
   "metadata": {
    "collapsed": false
   },
   "outputs": [
    {
     "data": {
      "image/png": "[encoded data removed]",
      "text/plain": [
       "<matplotlib.figure.Figure at 0x108892ac8>"
      ]
     },
     "metadata": {},
     "output_type": "display_data"
    }
   ],
   "source": [
    "depths = list(range(1, 30))\n",
    "pyplot.plot(depths, [estimate(50, depth) for depth in depths])\n",
    "pyplot.show()"
   ]
  },
  {
   "cell_type": "code",
   "execution_count": 106,
   "metadata": {
    "collapsed": false
   },
   "outputs": [
    {
     "data": {
      "image/png": "[encoded data removed]",
      "text/plain": [
       "<matplotlib.figure.Figure at 0x108c83278>"
      ]
     },
     "metadata": {},
     "output_type": "display_data"
    }
   ],
   "source": [
    "n_iters = list(range(1, 150))\n",
    "pyplot.plot(n_iters, [estimate(n_iter, 5) for n_iter in n_iters])\n",
    "pyplot.show()"
   ]
  },
  {
   "cell_type": "code",
   "execution_count": 111,
   "metadata": {
    "collapsed": false
   },
   "outputs": [
    {
     "data": {
      "text/plain": [
       "3"
      ]
     },
     "execution_count": 111,
     "metadata": {},
     "output_type": "execute_result"
    }
   ],
   "source": [
    "open(\"2-3.txt\", \"wt\").write(\"2 3\")"
   ]
  },
  {
   "cell_type": "code",
   "execution_count": 113,
   "metadata": {
    "collapsed": false
   },
   "outputs": [
    {
     "name": "stdout",
     "output_type": "stream",
     "text": [
      "8.27046803494\n"
     ]
    }
   ],
   "source": [
    "y_predict = sklearn.linear_model.LinearRegression().fit(X_train, y_train).predict(X_test)\n",
    "rmse = numpy.sqrt(sklearn.metrics.mean_squared_error(y_test, y_predict))\n",
    "open(\"2-4.txt\", \"wt\").write(str(rmse))\n",
    "print(rmse)"
   ]
  }
 ],
 "metadata": {
  "kernelspec": {
   "display_name": "Python 3",
   "language": "python",
   "name": "python3"
  },
  "language_info": {
   "codemirror_mode": {
    "name": "ipython",
    "version": 3
   },
   "file_extension": ".py",
   "mimetype": "text/x-python",
   "name": "python",
   "nbconvert_exporter": "python",
   "pygments_lexer": "ipython3",
   "version": "3.5.1"
  }
 },
 "nbformat": 4,
 "nbformat_minor": 0
}
