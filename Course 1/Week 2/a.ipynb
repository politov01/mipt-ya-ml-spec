{
 "cells": [
  {
   "cell_type": "code",
   "execution_count": 22,
   "metadata": {
    "collapsed": false
   },
   "outputs": [
    {
     "data": {
      "text/plain": [
       "3"
      ]
     },
     "execution_count": 22,
     "metadata": {},
     "output_type": "execute_result"
    }
   ],
   "source": [
    "import collections\n",
    "import itertools\n",
    "import operator\n",
    "import re\n",
    "\n",
    "import numpy\n",
    "import scipy.spatial\n",
    "\n",
    "sentences = [\n",
    "    collections.Counter(filter(None, re.split('[^a-z]', line)))\n",
    "    for line in map(str.lower, open(\"sentences.txt\", \"rt\"))\n",
    "]\n",
    "unique_words = list(set(itertools.chain(*sentences)))\n",
    "\n",
    "x = numpy.array([\n",
    "    [sentence[word] for word in unique_words]\n",
    "    for sentence in sentences\n",
    "])\n",
    "distances = sorted(enumerate(\n",
    "    scipy.spatial.distance.cosine(x[0], row)\n",
    "    for row in x[1:]\n",
    "), key=operator.itemgetter(1))\n",
    "\n",
    "open(\"submission-1.txt\", \"wt\").write(\"%s %s\" % (distances[0][0] + 1, distances[1][0] + 1))"
   ]
  }
 ],
 "metadata": {
  "kernelspec": {
   "display_name": "Python 3",
   "language": "python",
   "name": "python3"
  },
  "language_info": {
   "codemirror_mode": {
    "name": "ipython",
    "version": 3
   },
   "file_extension": ".py",
   "mimetype": "text/x-python",
   "name": "python",
   "nbconvert_exporter": "python",
   "pygments_lexer": "ipython3",
   "version": "3.5.1"
  }
 },
 "nbformat": 4,
 "nbformat_minor": 0
}
