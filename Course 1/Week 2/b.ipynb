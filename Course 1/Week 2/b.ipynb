{
 "cells": [
  {
   "cell_type": "code",
   "execution_count": 11,
   "metadata": {
    "collapsed": false
   },
   "outputs": [
    {
     "data": {
      "text/plain": [
       "61"
      ]
     },
     "execution_count": 11,
     "metadata": {},
     "output_type": "execute_result"
    }
   ],
   "source": [
    "import numpy\n",
    "\n",
    "def f(x):\n",
    "    return numpy.sin(x / 5) * numpy.exp(x / 10) + 5 * numpy.exp(-x / 2)\n",
    "\n",
    "xs = [1.0, 4.0, 10.0, 15.0]\n",
    "\n",
    "X = numpy.array([\n",
    "    [numpy.power(x, i) for i in range(len(xs))]\n",
    "    for x in xs\n",
    "])\n",
    "y = numpy.array([[f(x)] for x in xs])\n",
    "w = numpy.linalg.solve(X, y).flatten()\n",
    "\n",
    "open(\"submission-2.txt\", \"wt\").write(\" \".join(map(str, w)))"
   ]
  }
 ],
 "metadata": {
  "kernelspec": {
   "display_name": "Python 3",
   "language": "python",
   "name": "python3"
  },
  "language_info": {
   "codemirror_mode": {
    "name": "ipython",
    "version": 3
   },
   "file_extension": ".py",
   "mimetype": "text/x-python",
   "name": "python",
   "nbconvert_exporter": "python",
   "pygments_lexer": "ipython3",
   "version": "3.5.1"
  }
 },
 "nbformat": 4,
 "nbformat_minor": 0
}
